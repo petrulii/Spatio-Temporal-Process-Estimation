{
 "cells": [
  {
   "cell_type": "code",
   "execution_count": 10,
   "metadata": {
    "collapsed": true
   },
   "outputs": [],
   "source": [
    "import numpy as np; np.random.seed(0)\n",
    "import matplotlib.pyplot as plt\n",
    "from time_series_utils import estimate_parameters, log_loss, sigmoid, binary_sigmoid, MSE, identity, binary_linear\n",
    "import time\n",
    "from scipy.sparse import rand"
   ]
  },
  {
   "cell_type": "code",
   "execution_count": 11,
   "metadata": {},
   "outputs": [],
   "source": [
    "activation_binary = binary_sigmoid\n",
    "activation = sigmoid\n",
    "loss = log_loss"
   ]
  },
  {
   "cell_type": "code",
   "execution_count": 12,
   "metadata": {},
   "outputs": [],
   "source": [
    "# Creating random events with some density over an n by m grid.\n",
    "L_rows, L_columns = 15,16\n",
    "L = L_rows * L_columns\n",
    "# Time horizon of lenght N and process memory N.\n",
    "d = 3\n",
    "periods = 4\n",
    "N = d + d*periods\n",
    "# Initialiazing the time horizon.\n",
    "time_horizon = np.zeros(shape=(N,L))\n",
    "# Create a random Bernoulli process grid at the initial time strech.\n",
    "for s in range(d):\n",
    "    x = rand(L_rows, L_columns, density=0.2, format='csr')\n",
    "    x.data[:] = 1\n",
    "    x = x.toarray().flatten()\n",
    "    for l in range(L):\n",
    "        time_horizon[s] = x"
   ]
  },
  {
   "cell_type": "code",
   "execution_count": 13,
   "metadata": {},
   "outputs": [],
   "source": [
    "# Initialising the true parameter vector and the bias.\n",
    "true_theta = np.random.randn(L, d*L)\n",
    "# Generate time series.\n",
    "for s in range(d,N):\n",
    "    # Predictor X of dimension d*L.\n",
    "    X = time_horizon[(s-d):s].flatten()\n",
    "    for l in range(L):\n",
    "        time_horizon[s,l] = activation_binary(np.dot(X, true_theta[l]))\n"
   ]
  },
  {
   "cell_type": "code",
   "execution_count": 14,
   "metadata": {},
   "outputs": [
    {
     "data": {
      "text/plain": [
       "array([[0., 0., 0., 0., 0., 1.],\n",
       "       [0., 0., 0., 1., 0., 0.],\n",
       "       [0., 0., 0., 1., 0., 0.],\n",
       "       [0., 0., 1., 0., 1., 0.],\n",
       "       [1., 0., 1., 1., 1., 0.],\n",
       "       [1., 1., 0., 1., 1., 0.]])"
      ]
     },
     "execution_count": 14,
     "metadata": {},
     "output_type": "execute_result"
    }
   ],
   "source": [
    "time_horizon"
   ]
  },
  {
   "cell_type": "code",
   "execution_count": 5,
   "metadata": {},
   "outputs": [
    {
     "name": "stdout",
     "output_type": "stream",
     "text": [
      "Iterations: 1000 , time: 11.16106629371643 .\n"
     ]
    },
    {
     "data": {
      "text/plain": [
       "[<matplotlib.lines.Line2D at 0x7f9a0499aca0>]"
      ]
     },
     "execution_count": 5,
     "metadata": {},
     "output_type": "execute_result"
    },
    {
     "data": {
      "image/png": "[encoded data removed]",
      "text/plain": [
       "<Figure size 432x288 with 1 Axes>"
      ]
     },
     "metadata": {
      "needs_background": "light"
     },
     "output_type": "display_data"
    }
   ],
   "source": [
    "# Gradient Descent.\n",
    "start_time = time.time()\n",
    "theta, i, log_err = estimate_parameters(time_horizon, N, L, d, max_iterations=1000, activation=activation, loss=loss)\n",
    "print(\"Iterations:\", i, \", time:\", (time.time() - start_time), \".\")\n",
    "plt.plot(log_err, label=\"Log loss function\")"
   ]
  },
  {
   "cell_type": "code",
   "execution_count": 6,
   "metadata": {},
   "outputs": [],
   "source": [
    "X_test = time_horizon[(N-d):N].flatten()\n",
    "y = np.ones(L)\n",
    "for l in range(L):\n",
    "    y[l] = activation_binary(np.dot(X_test, true_theta[l]))\n",
    "prediction = np.ones(L)\n",
    "for l in range(L):\n",
    "    prediction[l] = activation(np.dot(X_test, theta[l]))"
   ]
  },
  {
   "cell_type": "code",
   "execution_count": 7,
   "metadata": {},
   "outputs": [
    {
     "data": {
      "image/png": "[encoded data removed]",
      "text/plain": [
       "<Figure size 864x864 with 4 Axes>"
      ]
     },
     "metadata": {
      "needs_background": "light"
     },
     "output_type": "display_data"
    }
   ],
   "source": [
    "# Basic configuration.\n",
    "fig, axes = plt.subplots(ncols=2, figsize=(12, 12))\n",
    "ax1, ax2 = axes\n",
    "im1 = ax1.matshow(y.reshape((L_rows, L_columns)))\n",
    "im2 = ax2.matshow(prediction.reshape((L_rows, L_columns)))\n",
    "\n",
    "# Formatting for heat map 1.\n",
    "ax1.set_xticks(range(L_columns))\n",
    "ax1.set_yticks(range(L_rows))\n",
    "ax1.set_title(\"Ground truth\")\n",
    "plt.setp(ax1.get_xticklabels(), ha='left')\n",
    "plt.colorbar(im1, fraction=0.045, pad=0.05, ax=ax1)\n",
    "\n",
    "# Formatting for heat map 2.\n",
    "ax2.set_xticks(range(L_columns))\n",
    "ax2.set_yticks(range(L_rows))\n",
    "ax2.set_title(\"Prediction\")\n",
    "plt.setp(ax2.get_xticklabels(), ha='left')\n",
    "plt.colorbar(im2, fraction=0.045, pad=0.05, ax=ax2)\n",
    "\n",
    "fig.tight_layout()"
   ]
  }
 ],
 "metadata": {
  "anaconda-cloud": {},
  "kernelspec": {
   "display_name": "Python 3",
   "language": "python",
   "name": "python3"
  },
  "language_info": {
   "codemirror_mode": {
    "name": "ipython",
    "version": 3
   },
   "file_extension": ".py",
   "mimetype": "text/x-python",
   "name": "python",
   "nbconvert_exporter": "python",
   "pygments_lexer": "ipython3",
   "version": "3.8.10"
  }
 },
 "nbformat": 4,
 "nbformat_minor": 2
}
