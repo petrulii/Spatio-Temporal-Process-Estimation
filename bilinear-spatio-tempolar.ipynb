{
 "cells": [
  {
   "cell_type": "code",
   "execution_count": 1,
   "metadata": {
    "collapsed": true
   },
   "outputs": [],
   "source": [
    "import numpy as np\n",
    "import matplotlib.pyplot as plt\n",
    "from utils import extragradient, projection_Moreau\n",
    "import time"
   ]
  },
  {
   "cell_type": "code",
   "execution_count": 2,
   "metadata": {},
   "outputs": [],
   "source": [
    "%%capture\n",
    "np.random.seed(2)\n",
    "L = 2\n",
    "\"\"\" Return coordinate matrices from coordinate vectors. \"\"\"\n",
    "Afig = np.random.rand(10, 10)\n",
    "X, Y = np.meshgrid(np.linspace(-1, 1, 10), np.linspace(-1, 1, 10))\n",
    "F_x = Afig.dot(Y)\n",
    "F_y = -np.transpose(Afig).dot(X)"
   ]
  },
  {
   "cell_type": "code",
   "execution_count": 3,
   "metadata": {},
   "outputs": [],
   "source": [
    "%%capture\n",
    "fig1 = plt.figure(1, figsize=(8,8))\n",
    "ax1 = fig1.gca()\n",
    "ax1.quiver(X, Y, F_x, F_y, units='width',color='tab:gray', width=0.003)"
   ]
  },
  {
   "cell_type": "code",
   "execution_count": 4,
   "metadata": {},
   "outputs": [],
   "source": [
    "def payoff_matrix(X, Y, L):\n",
    "    A = np.zeros(shape=(L,L))\n",
    "    for i in range(L):\n",
    "        for j in range(L):\n",
    "            #if int(X[i])!=0 or int(X[i])!=1 or int(Y[j])!=0 or int(Y[j])!=1:\n",
    "            #    print(\"The values are not binary:\", int(X[i]), int(Y[j]))\n",
    "            A[i,j] = (X[i] + Y[j]) / 2\n",
    "    return A"
   ]
  },
  {
   "cell_type": "code",
   "execution_count": 5,
   "metadata": {},
   "outputs": [],
   "source": [
    "# Time horizon of lenght N and process memory N.\n",
    "d = 1\n",
    "periods = 6\n",
    "N = d + d*periods\n",
    "# Initialiazing the time horizons.\n",
    "time_horizon_x = np.zeros(shape=(N,L))\n",
    "time_horizon_y = np.zeros(shape=(N,L))\n",
    "# Create a random process grid at the initial time strech.\n",
    "for s in range(d):\n",
    "    x_0, y_0 = np.random.uniform(0,1,L), np.random.uniform(0,1,L)\n",
    "    x_0, y_0 = x_0/np.sum(x_0), y_0/np.sum(y_0)\n",
    "    # transform to 0 and 1\n",
    "    for l in range(L):\n",
    "        time_horizon_x[s] = x_0\n",
    "        time_horizon_y[s] = y_0"
   ]
  },
  {
   "cell_type": "code",
   "execution_count": 6,
   "metadata": {},
   "outputs": [
    {
     "data": {
      "text/plain": [
       "array([[0.69512352, 0.65799081],\n",
       "       [0.34200919, 0.30487648]])"
      ]
     },
     "execution_count": 6,
     "metadata": {},
     "output_type": "execute_result"
    }
   ],
   "source": [
    "payoff_matrix(time_horizon_x[0], time_horizon_y[0], L)"
   ]
  },
  {
   "cell_type": "code",
   "execution_count": 8,
   "metadata": {},
   "outputs": [
    {
     "data": {
      "text/plain": [
       "array([[0.85311432, 0.14688568],\n",
       "       [0.73213546, 0.26786454],\n",
       "       [0.        , 0.        ],\n",
       "       [0.94374379, 0.05625621],\n",
       "       [0.        , 0.        ],\n",
       "       [0.        , 0.        ],\n",
       "       [0.77871997, 0.22128003]])"
      ]
     },
     "execution_count": 8,
     "metadata": {},
     "output_type": "execute_result"
    }
   ],
   "source": [
    "time_horizon_x"
   ]
  },
  {
   "cell_type": "code",
   "execution_count": 7,
   "metadata": {},
   "outputs": [
    {
     "name": "stdout",
     "output_type": "stream",
     "text": [
      "Solution for x: [0.73213546 0.26786454] , solution for y: [0.39368002 0.60631998] , iterations: 200\n",
      "Solution for x: [0 0] , solution for y: [0 0] , iterations: 1033\n"
     ]
    },
    {
     "name": "stderr",
     "output_type": "stream",
     "text": [
      "/home/im2ag/Desktop/M1/Internship/ljk-dao-internship/utils.py:20: RuntimeWarning: overflow encountered in double_scalars\n",
      "  rate *= beta\n",
      "/home/im2ag/Desktop/M1/Internship/ljk-dao-internship/projections.py:45: RuntimeWarning: invalid value encountered in double_scalars\n",
      "  return np.array([max(0, y_i-t) for y_i in y])\n",
      "/home/im2ag/Desktop/M1/Internship/ljk-dao-internship/utils.py:74: RuntimeWarning: invalid value encountered in multiply\n",
      "  x = projection(x - rate*(x_grad_),d)\n",
      "/home/im2ag/Desktop/M1/Internship/ljk-dao-internship/utils.py:75: RuntimeWarning: invalid value encountered in multiply\n",
      "  y = projection(y - rate*(y_grad_),d)\n"
     ]
    },
    {
     "name": "stdout",
     "output_type": "stream",
     "text": [
      "Solution for x: [0.94374379 0.05625621] , solution for y: [0.16888948 0.83111052] , iterations: 200\n",
      "Solution for x: [0 0] , solution for y: [0 0] , iterations: 1030\n",
      "Solution for x: [0 0] , solution for y: [0 0] , iterations: 1030\n",
      "Solution for x: [0.77871997 0.22128003] , solution for y: [1. 0.] , iterations: 1309\n"
     ]
    },
    {
     "data": {
      "image/png": "[encoded data removed]",
      "text/plain": [
       "<Figure size 432x288 with 1 Axes>"
      ]
     },
     "metadata": {
      "needs_background": "light"
     },
     "output_type": "display_data"
    }
   ],
   "source": [
    "# Generate time series.\n",
    "for s in range(d,N):\n",
    "    # L*L pay-off matrix.\n",
    "    A = np.random.rand(L,L)#payoff_matrix(time_horizon_x[s-1], time_horizon_y[s-1], L)\n",
    "    x_rand, y_rand = np.random.randn(L), np.random.randn(L)\n",
    "    x_init, y_init = x_rand/np.sum(x_rand), y_rand/np.sum(y_rand)\n",
    "    # Extragradient Descent with adaptive step size and Yunmei Chen and Xiaojing Ye projection.\n",
    "    x, y, iter = extragradient(A, L, x_init, y_init, 0.02, ax1, adaptive = True, projection = projection_Moreau)\n",
    "    print(\"Solution for x:\", x, \", solution for y:\", y, \", iterations:\", iter)\n",
    "    time_horizon_x[s] = x\n",
    "    time_horizon_y[s] = y"
   ]
  },
  {
   "cell_type": "code",
   "execution_count": null,
   "metadata": {},
   "outputs": [],
   "source": [
    "# Gradient Descent.\n",
    "start_time = time.time()\n",
    "theta, i, log_err = estimate_parameters(time_horizon, N, L, d, max_iterations=1000, activation=activation, loss=loss)\n",
    "print(\"Iterations:\", i, \", time:\", (time.time() - start_time), \".\")\n",
    "plt.plot(log_err, label=\"Log loss function\")"
   ]
  },
  {
   "cell_type": "code",
   "execution_count": null,
   "metadata": {},
   "outputs": [],
   "source": [
    "X_test = time_horizon[(N-d):N].flatten()\n",
    "y = np.ones(L)\n",
    "for l in range(L):\n",
    "    y[l] = activation_binary(np.dot(X_test, true_theta[l]))\n",
    "prediction = np.ones(L)\n",
    "for l in range(L):\n",
    "    prediction[l] = activation(np.dot(X_test, theta[l]))"
   ]
  },
  {
   "cell_type": "code",
   "execution_count": null,
   "metadata": {},
   "outputs": [],
   "source": [
    "# Basic configuration.\n",
    "fig, axes = plt.subplots(ncols=2, figsize=(12, 12))\n",
    "ax1, ax2 = axes\n",
    "im1 = ax1.matshow(y.reshape((L_rows, L_columns)))\n",
    "im2 = ax2.matshow(prediction.reshape((L_rows, L_columns)))\n",
    "\n",
    "# Formatting for heat map 1.\n",
    "ax1.set_xticks(range(L_columns))\n",
    "ax1.set_yticks(range(L_rows))\n",
    "ax1.set_title(\"Ground truth\")\n",
    "plt.setp(ax1.get_xticklabels(), ha='left')\n",
    "plt.colorbar(im1, fraction=0.045, pad=0.05, ax=ax1)\n",
    "\n",
    "# Formatting for heat map 2.\n",
    "ax2.set_xticks(range(L_columns))\n",
    "ax2.set_yticks(range(L_rows))\n",
    "ax2.set_title(\"Prediction\")\n",
    "plt.setp(ax2.get_xticklabels(), ha='left')\n",
    "plt.colorbar(im2, fraction=0.045, pad=0.05, ax=ax2)\n",
    "\n",
    "fig.tight_layout()"
   ]
  }
 ],
 "metadata": {
  "anaconda-cloud": {},
  "kernelspec": {
   "display_name": "Python 3",
   "language": "python",
   "name": "python3"
  },
  "language_info": {
   "codemirror_mode": {
    "name": "ipython",
    "version": 3
   },
   "file_extension": ".py",
   "mimetype": "text/x-python",
   "name": "python",
   "nbconvert_exporter": "python",
   "pygments_lexer": "ipython3",
   "version": "3.8.10"
  }
 },
 "nbformat": 4,
 "nbformat_minor": 2
}
