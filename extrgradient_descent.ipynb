{
 "cells": [
  {
   "cell_type": "code",
   "execution_count": 1,
   "metadata": {
    "collapsed": true
   },
   "outputs": [],
   "source": [
    "import numpy as np\n",
    "import cvxpy as cp\n",
    "import matplotlib.pyplot as plt\n",
    "from utils import theoretical_stepsize, gradient_descent, extragradient\n",
    "import time"
   ]
  },
  {
   "cell_type": "markdown",
   "metadata": {},
   "source": [
    "# Mixed Strategy game VI\n"
   ]
  },
  {
   "cell_type": "markdown",
   "metadata": {},
   "source": [
    "Bilinear Objective where player x wants to minimize the amount it pays to the player y.\n",
    "\n",
    "$$\\min_x \\max_y x P y$$"
   ]
  },
  {
   "cell_type": "code",
   "execution_count": 2,
   "metadata": {},
   "outputs": [],
   "source": [
    "np.random.seed(0)\n",
    "n, m = 2, 2\n",
    "\"\"\" Return coordinate matrices from coordinate vectors. \"\"\"\n",
    "A = np.random.rand(n,m)\n",
    "X, Y = np.meshgrid(np.linspace(-n, n, n), np.linspace(-n, n, n))\n",
    "F_x = A.dot(Y)\n",
    "F_y = -np.transpose(A).dot(X)\n",
    "th_rate = theoretical_stepsize(A)"
   ]
  },
  {
   "cell_type": "code",
   "execution_count": 3,
   "metadata": {},
   "outputs": [],
   "source": [
    "%%capture\n",
    "fig1 = plt.figure(1, figsize=(8,8))\n",
    "ax1 = fig1.gca()\n",
    "ax1.quiver(X, Y, F_x, F_y, units='width',color='tab:gray', width=0.003)"
   ]
  },
  {
   "cell_type": "code",
   "execution_count": 4,
   "metadata": {},
   "outputs": [
    {
     "name": "stdout",
     "output_type": "stream",
     "text": [
      "Solution for x: [-0.90358409 -0.51127083] , solution for y: [-0.17084399  0.05173758] , iterations: 199 , time: 0.0050067901611328125 .\n"
     ]
    }
   ],
   "source": [
    "# Gradient Descent\n",
    "start_time = time.time()\n",
    "x_rand, y_rand = np.random.uniform(size=n), np.random.uniform(size=m)\n",
    "x_init, y_init = x_rand/np.sum(x_rand), y_rand/np.sum(y_rand)\n",
    "x, y, iter = gradient_descent(A, x_init, y_init, ax1)\n",
    "print(\"Solution for x:\", x, \", solution for y:\", y, \", iterations:\", iter, \", time:\", (time.time() - start_time), \".\")"
   ]
  },
  {
   "cell_type": "code",
   "execution_count": 5,
   "metadata": {},
   "outputs": [],
   "source": [
    "# Extragradient Descent with theoretical step size\n",
    "#start_time = time.time()\n",
    "#x, y, iter = extragradient(A, n, x_init, y_init, th_rate, fig1, ax1)\n",
    "#print(\"Solution for x:\", x, \", solution for y:\", y, \", iterations:\", iter, \", time:\", (time.time() - start_time), \".\")"
   ]
  },
  {
   "cell_type": "code",
   "execution_count": 6,
   "metadata": {},
   "outputs": [],
   "source": [
    "%%capture\n",
    "fig2 = plt.figure(1, figsize=(8,8))\n",
    "ax2 = fig2.gca()\n",
    "ax2.quiver(X, Y, F_x, F_y, units='width',color='tab:gray', width=0.003)"
   ]
  },
  {
   "cell_type": "code",
   "execution_count": 7,
   "metadata": {},
   "outputs": [
    {
     "name": "stdout",
     "output_type": "stream",
     "text": [
      "Solution for x: [0.28594663 0.71405337] , solution for y: [0.73307134 0.26692866] , iterations: 40 , time: 1.4775233268737793 .\n"
     ]
    },
    {
     "data": {
      "image/png": "[encoded data removed]",
      "text/plain": [
       "<Figure size 432x288 with 1 Axes>"
      ]
     },
     "metadata": {
      "needs_background": "light"
     },
     "output_type": "display_data"
    }
   ],
   "source": [
    "# Extragradient Descent with adaptive step size\n",
    "start_time = time.time()\n",
    "x, y, iter = extragradient(A, n, x_init, y_init, 0.02, fig2, ax2, adaptive = True)\n",
    "print(\"Solution for x:\", x, \", solution for y:\", y, \", iterations:\", iter, \", time:\", (time.time() - start_time), \".\")"
   ]
  },
  {
   "cell_type": "code",
   "execution_count": 8,
   "metadata": {},
   "outputs": [],
   "source": [
    "%%capture\n",
    "fig3 = plt.figure(1, figsize=(8,8))\n",
    "ax3 = fig3.gca()\n",
    "ax3.quiver(X, Y, F_x, F_y, units='width',color='tab:gray', width=0.003)"
   ]
  },
  {
   "cell_type": "code",
   "execution_count": 9,
   "metadata": {},
   "outputs": [],
   "source": [
    "def projection_simplex_sort(y, d, z=1):\n",
    "    \"\"\" Calculates the projection from point y onto a point x in the probability simplex. \"\"\"\n",
    "    u = np.sort(y)[::-1]\n",
    "    cssv = np.cumsum(u) - z\n",
    "    ind = np.arange(d) + 1\n",
    "    cond = u - cssv / ind > 0\n",
    "    rho = ind[cond][-1]\n",
    "    theta = cssv[cond][-1] / float(rho)\n",
    "    w = np.maximum(y - theta, 0)\n",
    "    return w"
   ]
  },
  {
   "cell_type": "code",
   "execution_count": 10,
   "metadata": {},
   "outputs": [
    {
     "name": "stdout",
     "output_type": "stream",
     "text": [
      "Solution for x: [0.25622633 0.74377367] , solution for y: [0.75869028 0.24130972] , iterations: 104 , time: 0.1549072265625 .\n"
     ]
    },
    {
     "data": {
      "image/png": "[encoded data removed]",
      "text/plain": [
       "<Figure size 432x288 with 1 Axes>"
      ]
     },
     "metadata": {
      "needs_background": "light"
     },
     "output_type": "display_data"
    }
   ],
   "source": [
    "# Extragradient Descent with adaptive step size and explicit projection solution\n",
    "start_time = time.time()\n",
    "x, y, iter = extragradient(A, n, x_init, y_init, 0.02, fig2, ax2, adaptive = True, projection = projection_simplex_sort)\n",
    "print(\"Solution for x:\", x, \", solution for y:\", y, \", iterations:\", iter, \", time:\", (time.time() - start_time), \".\")"
   ]
  }
 ],
 "metadata": {
  "anaconda-cloud": {},
  "kernelspec": {
   "display_name": "Python 3",
   "language": "python",
   "name": "python3"
  },
  "language_info": {
   "codemirror_mode": {
    "name": "ipython",
    "version": 3
   },
   "file_extension": ".py",
   "mimetype": "text/x-python",
   "name": "python",
   "nbconvert_exporter": "python",
   "pygments_lexer": "ipython3",
   "version": "3.8.10"
  }
 },
 "nbformat": 4,
 "nbformat_minor": 2
}
