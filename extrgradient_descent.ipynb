{
 "cells": [
  {
   "cell_type": "code",
   "execution_count": 1,
   "metadata": {
    "collapsed": true
   },
   "outputs": [],
   "source": [
    "import numpy as np\n",
    "import cvxpy as cp\n",
    "import matplotlib.pyplot as plt\n",
    "from utils import theoretical_stepsize, gradient_descent, extragradient"
   ]
  },
  {
   "cell_type": "markdown",
   "metadata": {},
   "source": [
    "# Mixed Strategy game VI\n"
   ]
  },
  {
   "cell_type": "markdown",
   "metadata": {},
   "source": [
    "Bilinear Objective\n",
    "\n",
    "$$\\min_\\theta \\max_\\phi \\theta P\\phi$$"
   ]
  },
  {
   "cell_type": "code",
   "execution_count": 2,
   "metadata": {},
   "outputs": [
    {
     "data": {
      "text/plain": [
       "<matplotlib.quiver.Quiver at 0x7fe9a1e45ac0>"
      ]
     },
     "execution_count": 2,
     "metadata": {},
     "output_type": "execute_result"
    },
    {
     "data": {
      "image/png": "[encoded data removed]",
      "text/plain": [
       "<Figure size 576x576 with 1 Axes>"
      ]
     },
     "metadata": {
      "needs_background": "light"
     },
     "output_type": "display_data"
    }
   ],
   "source": [
    "np.random.seed(0)\n",
    "n, m = 2, 2\n",
    "\"\"\" Return coordinate matrices from coordinate vectors. \"\"\"\n",
    "A = np.random.rand(n,m)\n",
    "X, Y = np.meshgrid(np.linspace(-n, n, n), np.linspace(-n, n, n))\n",
    "F_x = A.dot(Y)\n",
    "F_y = -np.transpose(A).dot(X)\n",
    "th_rate = theoretical_stepsize(A)\n",
    "\n",
    "fig = plt.figure(1, figsize=(8,8))\n",
    "ax = fig.gca()\n",
    "ax.quiver(X, Y, F_x, F_y, units='width',color='tab:gray', width=0.003)"
   ]
  },
  {
   "cell_type": "code",
   "execution_count": 3,
   "metadata": {},
   "outputs": [],
   "source": [
    "# Gradient Descent\n",
    "x_rand, y_rand = np.random.uniform(size=n), np.random.uniform(size=m)\n",
    "x_init, y_init = x_rand/np.sum(x_rand), y_rand/np.sum(y_rand)\n",
    "gradient_descent(A, x_init, y_init, ax)"
   ]
  },
  {
   "cell_type": "code",
   "execution_count": null,
   "metadata": {},
   "outputs": [],
   "source": [
    "# Extragradient Descent\n",
    "x, y, iter = extragradient(A, n, x_init, y_init, th_rate, fig, ax)\n",
    "print(\"Solution for x:\", x, \", solution for y:\", y, \", iterations:\", iter, \".\")"
   ]
  },
  {
   "cell_type": "code",
   "execution_count": 4,
   "metadata": {},
   "outputs": [
    {
     "name": "stdout",
     "output_type": "stream",
     "text": [
      "0.6431674840351168\n",
      "0.4547880893999216\n",
      "0.32158374201755835\n",
      "0.22739404469996077\n",
      "0.16079187100877915\n",
      "0.11369702234998036\n",
      "0.08039593550438956\n",
      "0.05684851117499017\n",
      "0.04019796775219477\n",
      "0.02842425558749508\n",
      "0.020098983876097383\n",
      "0.014212127793747538\n",
      "0.01004949193804869\n",
      "0.007106063896873767\n",
      "0.005024745969024344\n",
      "0.003553031948436883\n",
      "0.0025123729845121716\n",
      "0.0017765159742184414\n",
      "0.0012561864922560856\n",
      "0.0008882579871092205\n",
      "Solution for x: [0.35072693 0.64927307] , solution for y: [0.31955583 0.68044417] , iterations: 1 .\n"
     ]
    }
   ],
   "source": [
    "# Extragradient Descent with adaptive step size\n",
    "x, y, iter = extragradient(A, n, x_init, y_init, th_rate, fig, ax, adaptive = True)\n",
    "print(\"Solution for x:\", x, \", solution for y:\", y, \", iterations:\", iter, \".\")"
   ]
  }
 ],
 "metadata": {
  "anaconda-cloud": {},
  "kernelspec": {
   "display_name": "Python 3",
   "language": "python",
   "name": "python3"
  },
  "language_info": {
   "codemirror_mode": {
    "name": "ipython",
    "version": 3
   },
   "file_extension": ".py",
   "mimetype": "text/x-python",
   "name": "python",
   "nbconvert_exporter": "python",
   "pygments_lexer": "ipython3",
   "version": "3.8.10"
  }
 },
 "nbformat": 4,
 "nbformat_minor": 2
}
