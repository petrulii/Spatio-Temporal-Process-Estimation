{
 "cells": [
  {
   "cell_type": "code",
   "execution_count": 1,
   "metadata": {
    "collapsed": true
   },
   "outputs": [],
   "source": [
    "import numpy as np\n",
    "import matplotlib.pyplot as plt\n",
    "from utils import theoretical_stepsize, gradient_descent, extragradient, projection_simplex_sort, projection_Moreau\n",
    "import time"
   ]
  },
  {
   "cell_type": "markdown",
   "metadata": {},
   "source": [
    "# Mixed Strategy game VI\n"
   ]
  },
  {
   "cell_type": "markdown",
   "metadata": {},
   "source": [
    "Bilinear Objective where player x wants to minimize the amount it pays to the player y.\n",
    "\n",
    "$$\\max_x \\min_y x^T A y$$"
   ]
  },
  {
   "cell_type": "code",
   "execution_count": 2,
   "metadata": {},
   "outputs": [],
   "source": [
    "%%capture\n",
    "np.random.seed(0)\n",
    "n, m = 2, 2\n",
    "\"\"\" Return coordinate matrices from coordinate vectors. \"\"\"\n",
    "A = np.random.rand(n,m)#sc.sparse.random(n, m, density=0.5).A\n",
    "Afig = np.random.rand(10, 10)\n",
    "X, Y = np.meshgrid(np.linspace(-1, 1, 10), np.linspace(-1, 1, 10))\n",
    "F_x = Afig.dot(Y)\n",
    "F_y = -np.transpose(Afig).dot(X)\n",
    "th_rate = theoretical_stepsize(A)"
   ]
  },
  {
   "cell_type": "code",
   "execution_count": 3,
   "metadata": {},
   "outputs": [],
   "source": [
    "%%capture\n",
    "fig1 = plt.figure(1, figsize=(8,8))\n",
    "ax1 = fig1.gca()\n",
    "ax1.quiver(X, Y, F_x, F_y, units='width',color='tab:gray', width=0.003)"
   ]
  },
  {
   "cell_type": "code",
   "execution_count": 4,
   "metadata": {},
   "outputs": [
    {
     "name": "stdout",
     "output_type": "stream",
     "text": [
      "Solution for x: [0.68115079 0.75324651] , solution for y: [0.44667622 0.04081945] , iterations: 999 , time: 0.01458740234375 .\n"
     ]
    }
   ],
   "source": [
    "# Gradient Descent\n",
    "start_time = time.time()\n",
    "x_rand, y_rand = np.random.uniform(size=n), np.random.uniform(size=m)\n",
    "x_init, y_init = x_rand/np.sum(x_rand), y_rand/np.sum(y_rand)\n",
    "x, y, iter = gradient_descent(A, x_init, y_init, ax1)\n",
    "print(\"Solution for x:\", x, \", solution for y:\", y, \", iterations:\", iter, \", time:\", (time.time() - start_time), \".\")"
   ]
  },
  {
   "cell_type": "code",
   "execution_count": 5,
   "metadata": {},
   "outputs": [],
   "source": [
    "%%capture\n",
    "# Extragradient Descent with adaptive step size and Yunmei Chen and Xiaojing Ye projection.\n",
    "start_time = time.time()\n",
    "x, y, iter = extragradient(A, n, x_init, y_init, 0.02, ax1, adaptive = True, projection = projection_Moreau)"
   ]
  },
  {
   "cell_type": "code",
   "execution_count": 6,
   "metadata": {},
   "outputs": [
    {
     "name": "stdout",
     "output_type": "stream",
     "text": [
      "Solution for x: [0.25808847 0.74191153] , solution for y: [0.75939022 0.24060978] , iterations: 200 , time: 0.14767885208129883 .\n"
     ]
    }
   ],
   "source": [
    "print(\"Solution for x:\", x, \", solution for y:\", y, \", iterations:\", iter, \", time:\", (time.time() - start_time), \".\")"
   ]
  },
  {
   "cell_type": "code",
   "execution_count": 7,
   "metadata": {},
   "outputs": [],
   "source": [
    "%%capture\n",
    "# Extragradient Descent with adaptive step size and sort-projection solution.\n",
    "start_time = time.time()\n",
    "x, y, iter = extragradient(A, n, x_init, y_init, 0.02, ax1, adaptive = True, projection = projection_simplex_sort)"
   ]
  },
  {
   "cell_type": "code",
   "execution_count": 8,
   "metadata": {},
   "outputs": [
    {
     "name": "stdout",
     "output_type": "stream",
     "text": [
      "Solution for x: [0.25808847 0.74191153] , solution for y: [0.75939022 0.24060978] , iterations: 200 , time: 0.1816401481628418 .\n"
     ]
    }
   ],
   "source": [
    "print(\"Solution for x:\", x, \", solution for y:\", y, \", iterations:\", iter, \", time:\", (time.time() - start_time), \".\")"
   ]
  },
  {
   "cell_type": "code",
   "execution_count": 9,
   "metadata": {},
   "outputs": [],
   "source": [
    "ax1.legend(loc='lower right', frameon=False)\n",
    "ax1.set_xlabel('a[0]')\n",
    "ax1.set_ylabel('b[0]')\n",
    "fig1.savefig(\"img/all_descents\")"
   ]
  },
  {
   "cell_type": "code",
   "execution_count": 10,
   "metadata": {},
   "outputs": [],
   "source": [
    "%%capture\n",
    "# Extragradient Descent with theoretical step size and CVX projection.\n",
    "start_time = time.time()\n",
    "x, y, iter = extragradient(A, n, x_init, y_init, th_rate, ax1)"
   ]
  },
  {
   "cell_type": "code",
   "execution_count": 11,
   "metadata": {},
   "outputs": [
    {
     "name": "stdout",
     "output_type": "stream",
     "text": [
      "Solution for x: [0.17514736 0.82485264] , solution for y: [0.79052038 0.20947962] , iterations: 203 , time: 7.234838962554932 .\n"
     ]
    }
   ],
   "source": [
    "print(\"Solution for x:\", x, \", solution for y:\", y, \", iterations:\", iter, \", time:\", (time.time() - start_time), \".\")"
   ]
  }
 ],
 "metadata": {
  "anaconda-cloud": {},
  "kernelspec": {
   "display_name": "Python 3",
   "language": "python",
   "name": "python3"
  },
  "language_info": {
   "codemirror_mode": {
    "name": "ipython",
    "version": 3
   },
   "file_extension": ".py",
   "mimetype": "text/x-python",
   "name": "python",
   "nbconvert_exporter": "python",
   "pygments_lexer": "ipython3",
   "version": "3.8.10"
  }
 },
 "nbformat": 4,
 "nbformat_minor": 2
}
