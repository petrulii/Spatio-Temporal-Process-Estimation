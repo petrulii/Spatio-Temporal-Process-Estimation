{
 "cells": [
  {
   "cell_type": "markdown",
   "metadata": {},
   "source": [
    "## TP4\n",
    "#### Ieva Petrulionyte and Sidorets Kirill\n",
    "\n",
    "We want to predict the IBD (Inflammatory Bowel Disease) clinical status of patients **given the abundance of microbial species** living in their gut."
   ]
  },
  {
   "cell_type": "code",
   "execution_count": 20,
   "metadata": {},
   "outputs": [],
   "source": [
    "# Import libraries.\n",
    "import pandas as pd\n",
    "import numpy as np\n",
    "from sklearn import linear_model\n",
    "from sklearn.model_selection import train_test_split\n",
    "from sklearn.model_selection import cross_validate\n",
    "from sklearn.metrics import roc_auc_score\n",
    "import matplotlib.pyplot as plt"
   ]
  },
  {
   "cell_type": "code",
   "execution_count": 21,
   "metadata": {},
   "outputs": [
    {
     "data": {
      "text/html": [
       "<div>\n",
       "<style scoped>\n",
       "    .dataframe tbody tr th:only-of-type {\n",
       "        vertical-align: middle;\n",
       "    }\n",
       "\n",
       "    .dataframe tbody tr th {\n",
       "        vertical-align: top;\n",
       "    }\n",
       "\n",
       "    .dataframe thead th {\n",
       "        text-align: right;\n",
       "    }\n",
       "</style>\n",
       "<table border=\"1\" class=\"dataframe\">\n",
       "  <thead>\n",
       "    <tr style=\"text-align: right;\">\n",
       "      <th></th>\n",
       "      <th>k__Bacteria</th>\n",
       "      <th>k__Archaea</th>\n",
       "      <th>k__Viruses</th>\n",
       "      <th>k__Bacteria|p__Bacteroidetes</th>\n",
       "      <th>k__Bacteria|p__Firmicutes</th>\n",
       "      <th>k__Bacteria|p__Proteobacteria</th>\n",
       "      <th>k__Bacteria|p__Actinobacteria</th>\n",
       "      <th>k__Archaea|p__Euryarchaeota</th>\n",
       "      <th>k__Bacteria|p__Verrucomicrobia</th>\n",
       "      <th>k__Viruses|p__Viruses_noname</th>\n",
       "      <th>...</th>\n",
       "      <th>k__Bacteria|p__Proteobacteria|c__Alphaproteobacteria|o__Rhodobacterales|f__Rhodobacteraceae</th>\n",
       "      <th>k__Viroids|p__Viroids_noname|c__Viroids_noname|o__Viroids_noname|f__Pospiviroidae|g__Pospiviroidae_noname</th>\n",
       "      <th>k__Bacteria|p__Actinobacteria|c__Actinobacteria|o__Actinomycetales|f__Microbacteriaceae|g__Leifsonia</th>\n",
       "      <th>k__Bacteria|p__Proteobacteria|c__Gammaproteobacteria|o__Chromatiales|f__Ectothiorhodospiraceae|g__Thioalkalivibrio</th>\n",
       "      <th>k__Bacteria|p__Proteobacteria|c__Alphaproteobacteria|o__Rhodobacterales|f__Rhodobacteraceae|g__Labrenzia</th>\n",
       "      <th>k__Viroids|p__Viroids_noname|c__Viroids_noname|o__Viroids_noname|f__Pospiviroidae|g__Pospiviroidae_noname|s__Dahlia_latent_viroid</th>\n",
       "      <th>k__Bacteria|p__Actinobacteria|c__Actinobacteria|o__Actinomycetales|f__Microbacteriaceae|g__Leifsonia|s__Leifsonia_unclassified</th>\n",
       "      <th>k__Bacteria|p__Proteobacteria|c__Gammaproteobacteria|o__Chromatiales|f__Ectothiorhodospiraceae|g__Thioalkalivibrio|s__Thioalkalivibrio_unclassified</th>\n",
       "      <th>k__Bacteria|p__Proteobacteria|c__Alphaproteobacteria|o__Rhodobacterales|f__Rhodobacteraceae|g__Labrenzia|s__Labrenzia_unclassified</th>\n",
       "      <th>k__Viroids|p__Viroids_noname|c__Viroids_noname|o__Viroids_noname|f__Pospiviroidae|g__Pospiviroidae_noname|s__Dahlia_latent_viroid|t__PRJNA186953</th>\n",
       "    </tr>\n",
       "  </thead>\n",
       "  <tbody>\n",
       "    <tr>\n",
       "      <th>MH0001</th>\n",
       "      <td>99.85542</td>\n",
       "      <td>0.12024</td>\n",
       "      <td>0.02435</td>\n",
       "      <td>75.76233</td>\n",
       "      <td>22.45185</td>\n",
       "      <td>0.79821</td>\n",
       "      <td>0.77138</td>\n",
       "      <td>0.12024</td>\n",
       "      <td>0.04902</td>\n",
       "      <td>0.02435</td>\n",
       "      <td>...</td>\n",
       "      <td>0.00000</td>\n",
       "      <td>0.00000</td>\n",
       "      <td>0.00000</td>\n",
       "      <td>0.00000</td>\n",
       "      <td>0.00000</td>\n",
       "      <td>0.00000</td>\n",
       "      <td>0.00000</td>\n",
       "      <td>0.00000</td>\n",
       "      <td>0.00000</td>\n",
       "      <td>0.00000</td>\n",
       "    </tr>\n",
       "    <tr>\n",
       "      <th>MH0002</th>\n",
       "      <td>99.84094</td>\n",
       "      <td>0.00000</td>\n",
       "      <td>0.15906</td>\n",
       "      <td>29.66601</td>\n",
       "      <td>63.00964</td>\n",
       "      <td>0.80546</td>\n",
       "      <td>1.31857</td>\n",
       "      <td>0.00000</td>\n",
       "      <td>5.02320</td>\n",
       "      <td>0.15906</td>\n",
       "      <td>...</td>\n",
       "      <td>0.00000</td>\n",
       "      <td>0.00000</td>\n",
       "      <td>0.00000</td>\n",
       "      <td>0.00000</td>\n",
       "      <td>0.00000</td>\n",
       "      <td>0.00000</td>\n",
       "      <td>0.00000</td>\n",
       "      <td>0.00000</td>\n",
       "      <td>0.00000</td>\n",
       "      <td>0.00000</td>\n",
       "    </tr>\n",
       "    <tr>\n",
       "      <th>MH0003</th>\n",
       "      <td>99.99769</td>\n",
       "      <td>0.00000</td>\n",
       "      <td>0.00231</td>\n",
       "      <td>28.89089</td>\n",
       "      <td>68.87499</td>\n",
       "      <td>1.10182</td>\n",
       "      <td>1.11216</td>\n",
       "      <td>0.00000</td>\n",
       "      <td>0.00000</td>\n",
       "      <td>0.00231</td>\n",
       "      <td>...</td>\n",
       "      <td>0.00000</td>\n",
       "      <td>0.00000</td>\n",
       "      <td>0.00000</td>\n",
       "      <td>0.00000</td>\n",
       "      <td>0.00000</td>\n",
       "      <td>0.00000</td>\n",
       "      <td>0.00000</td>\n",
       "      <td>0.00000</td>\n",
       "      <td>0.00000</td>\n",
       "      <td>0.00000</td>\n",
       "    </tr>\n",
       "    <tr>\n",
       "      <th>MH0004</th>\n",
       "      <td>99.54958</td>\n",
       "      <td>0.44427</td>\n",
       "      <td>0.00615</td>\n",
       "      <td>36.82369</td>\n",
       "      <td>59.90264</td>\n",
       "      <td>0.96707</td>\n",
       "      <td>1.79713</td>\n",
       "      <td>0.44427</td>\n",
       "      <td>0.00000</td>\n",
       "      <td>0.00615</td>\n",
       "      <td>...</td>\n",
       "      <td>0.00000</td>\n",
       "      <td>0.00000</td>\n",
       "      <td>0.00000</td>\n",
       "      <td>0.00000</td>\n",
       "      <td>0.00000</td>\n",
       "      <td>0.00000</td>\n",
       "      <td>0.00000</td>\n",
       "      <td>0.00000</td>\n",
       "      <td>0.00000</td>\n",
       "      <td>0.00000</td>\n",
       "    </tr>\n",
       "    <tr>\n",
       "      <th>MH0005</th>\n",
       "      <td>99.85338</td>\n",
       "      <td>0.02338</td>\n",
       "      <td>0.12324</td>\n",
       "      <td>53.45066</td>\n",
       "      <td>44.00230</td>\n",
       "      <td>0.66402</td>\n",
       "      <td>1.34265</td>\n",
       "      <td>0.02338</td>\n",
       "      <td>0.33886</td>\n",
       "      <td>0.12324</td>\n",
       "      <td>...</td>\n",
       "      <td>0.00000</td>\n",
       "      <td>0.00000</td>\n",
       "      <td>0.00000</td>\n",
       "      <td>0.00000</td>\n",
       "      <td>0.00000</td>\n",
       "      <td>0.00000</td>\n",
       "      <td>0.00000</td>\n",
       "      <td>0.00000</td>\n",
       "      <td>0.00000</td>\n",
       "      <td>0.00000</td>\n",
       "    </tr>\n",
       "    <tr>\n",
       "      <th>...</th>\n",
       "      <td>...</td>\n",
       "      <td>...</td>\n",
       "      <td>...</td>\n",
       "      <td>...</td>\n",
       "      <td>...</td>\n",
       "      <td>...</td>\n",
       "      <td>...</td>\n",
       "      <td>...</td>\n",
       "      <td>...</td>\n",
       "      <td>...</td>\n",
       "      <td>...</td>\n",
       "      <td>...</td>\n",
       "      <td>...</td>\n",
       "      <td>...</td>\n",
       "      <td>...</td>\n",
       "      <td>...</td>\n",
       "      <td>...</td>\n",
       "      <td>...</td>\n",
       "      <td>...</td>\n",
       "      <td>...</td>\n",
       "      <td>...</td>\n",
       "    </tr>\n",
       "    <tr>\n",
       "      <th>V1_UC61_0</th>\n",
       "      <td>100.00000</td>\n",
       "      <td>0.00000</td>\n",
       "      <td>0.00000</td>\n",
       "      <td>73.60036</td>\n",
       "      <td>23.13241</td>\n",
       "      <td>1.97125</td>\n",
       "      <td>1.29598</td>\n",
       "      <td>0.00000</td>\n",
       "      <td>0.00000</td>\n",
       "      <td>0.00000</td>\n",
       "      <td>...</td>\n",
       "      <td>0.00000</td>\n",
       "      <td>0.00000</td>\n",
       "      <td>0.00000</td>\n",
       "      <td>0.00000</td>\n",
       "      <td>0.00000</td>\n",
       "      <td>0.00000</td>\n",
       "      <td>0.00000</td>\n",
       "      <td>0.00000</td>\n",
       "      <td>0.00000</td>\n",
       "      <td>0.00000</td>\n",
       "    </tr>\n",
       "    <tr>\n",
       "      <th>V1_UC62_0</th>\n",
       "      <td>99.43677</td>\n",
       "      <td>0.53534</td>\n",
       "      <td>0.02789</td>\n",
       "      <td>59.81443</td>\n",
       "      <td>31.16507</td>\n",
       "      <td>1.25950</td>\n",
       "      <td>7.12218</td>\n",
       "      <td>0.53534</td>\n",
       "      <td>0.07560</td>\n",
       "      <td>0.02789</td>\n",
       "      <td>...</td>\n",
       "      <td>0.00000</td>\n",
       "      <td>0.00000</td>\n",
       "      <td>0.00000</td>\n",
       "      <td>0.00000</td>\n",
       "      <td>0.00000</td>\n",
       "      <td>0.00000</td>\n",
       "      <td>0.00000</td>\n",
       "      <td>0.00000</td>\n",
       "      <td>0.00000</td>\n",
       "      <td>0.00000</td>\n",
       "    </tr>\n",
       "    <tr>\n",
       "      <th>V1_UC7_0</th>\n",
       "      <td>99.97056</td>\n",
       "      <td>0.00000</td>\n",
       "      <td>0.02944</td>\n",
       "      <td>61.47615</td>\n",
       "      <td>31.97288</td>\n",
       "      <td>3.65580</td>\n",
       "      <td>1.59657</td>\n",
       "      <td>0.00000</td>\n",
       "      <td>1.25953</td>\n",
       "      <td>0.02944</td>\n",
       "      <td>...</td>\n",
       "      <td>0.00000</td>\n",
       "      <td>0.00000</td>\n",
       "      <td>0.00000</td>\n",
       "      <td>0.00000</td>\n",
       "      <td>0.00000</td>\n",
       "      <td>0.00000</td>\n",
       "      <td>0.00000</td>\n",
       "      <td>0.00000</td>\n",
       "      <td>0.00000</td>\n",
       "      <td>0.00000</td>\n",
       "    </tr>\n",
       "    <tr>\n",
       "      <th>V1_UC8_0</th>\n",
       "      <td>96.71485</td>\n",
       "      <td>3.21396</td>\n",
       "      <td>0.01313</td>\n",
       "      <td>26.64142</td>\n",
       "      <td>56.61496</td>\n",
       "      <td>0.68027</td>\n",
       "      <td>7.95935</td>\n",
       "      <td>3.21396</td>\n",
       "      <td>4.79898</td>\n",
       "      <td>0.01313</td>\n",
       "      <td>...</td>\n",
       "      <td>0.00000</td>\n",
       "      <td>0.00000</td>\n",
       "      <td>0.00000</td>\n",
       "      <td>0.00000</td>\n",
       "      <td>0.00000</td>\n",
       "      <td>0.00000</td>\n",
       "      <td>0.00000</td>\n",
       "      <td>0.00000</td>\n",
       "      <td>0.00000</td>\n",
       "      <td>0.00000</td>\n",
       "    </tr>\n",
       "    <tr>\n",
       "      <th>V1_UC9_0</th>\n",
       "      <td>99.71703</td>\n",
       "      <td>0.20131</td>\n",
       "      <td>0.00974</td>\n",
       "      <td>16.94275</td>\n",
       "      <td>68.26699</td>\n",
       "      <td>0.65139</td>\n",
       "      <td>6.77325</td>\n",
       "      <td>0.20131</td>\n",
       "      <td>6.99597</td>\n",
       "      <td>0.00974</td>\n",
       "      <td>...</td>\n",
       "      <td>0.00336</td>\n",
       "      <td>0.07191</td>\n",
       "      <td>0.00383</td>\n",
       "      <td>0.00379</td>\n",
       "      <td>0.00336</td>\n",
       "      <td>0.07191</td>\n",
       "      <td>0.00383</td>\n",
       "      <td>0.00379</td>\n",
       "      <td>0.00336</td>\n",
       "      <td>0.07191</td>\n",
       "    </tr>\n",
       "  </tbody>\n",
       "</table>\n",
       "<p>396 rows × 1939 columns</p>\n",
       "</div>"
      ],
      "text/plain": [
       "           k__Bacteria  k__Archaea  k__Viruses  k__Bacteria|p__Bacteroidetes  \\\n",
       "MH0001        99.85542     0.12024     0.02435                      75.76233   \n",
       "MH0002        99.84094     0.00000     0.15906                      29.66601   \n",
       "MH0003        99.99769     0.00000     0.00231                      28.89089   \n",
       "MH0004        99.54958     0.44427     0.00615                      36.82369   \n",
       "MH0005        99.85338     0.02338     0.12324                      53.45066   \n",
       "...                ...         ...         ...                           ...   \n",
       "V1_UC61_0    100.00000     0.00000     0.00000                      73.60036   \n",
       "V1_UC62_0     99.43677     0.53534     0.02789                      59.81443   \n",
       "V1_UC7_0      99.97056     0.00000     0.02944                      61.47615   \n",
       "V1_UC8_0      96.71485     3.21396     0.01313                      26.64142   \n",
       "V1_UC9_0      99.71703     0.20131     0.00974                      16.94275   \n",
       "\n",
       "           k__Bacteria|p__Firmicutes  k__Bacteria|p__Proteobacteria  \\\n",
       "MH0001                      22.45185                        0.79821   \n",
       "MH0002                      63.00964                        0.80546   \n",
       "MH0003                      68.87499                        1.10182   \n",
       "MH0004                      59.90264                        0.96707   \n",
       "MH0005                      44.00230                        0.66402   \n",
       "...                              ...                            ...   \n",
       "V1_UC61_0                   23.13241                        1.97125   \n",
       "V1_UC62_0                   31.16507                        1.25950   \n",
       "V1_UC7_0                    31.97288                        3.65580   \n",
       "V1_UC8_0                    56.61496                        0.68027   \n",
       "V1_UC9_0                    68.26699                        0.65139   \n",
       "\n",
       "           k__Bacteria|p__Actinobacteria  k__Archaea|p__Euryarchaeota  \\\n",
       "MH0001                           0.77138                      0.12024   \n",
       "MH0002                           1.31857                      0.00000   \n",
       "MH0003                           1.11216                      0.00000   \n",
       "MH0004                           1.79713                      0.44427   \n",
       "MH0005                           1.34265                      0.02338   \n",
       "...                                  ...                          ...   \n",
       "V1_UC61_0                        1.29598                      0.00000   \n",
       "V1_UC62_0                        7.12218                      0.53534   \n",
       "V1_UC7_0                         1.59657                      0.00000   \n",
       "V1_UC8_0                         7.95935                      3.21396   \n",
       "V1_UC9_0                         6.77325                      0.20131   \n",
       "\n",
       "           k__Bacteria|p__Verrucomicrobia  k__Viruses|p__Viruses_noname  ...  \\\n",
       "MH0001                            0.04902                       0.02435  ...   \n",
       "MH0002                            5.02320                       0.15906  ...   \n",
       "MH0003                            0.00000                       0.00231  ...   \n",
       "MH0004                            0.00000                       0.00615  ...   \n",
       "MH0005                            0.33886                       0.12324  ...   \n",
       "...                                   ...                           ...  ...   \n",
       "V1_UC61_0                         0.00000                       0.00000  ...   \n",
       "V1_UC62_0                         0.07560                       0.02789  ...   \n",
       "V1_UC7_0                          1.25953                       0.02944  ...   \n",
       "V1_UC8_0                          4.79898                       0.01313  ...   \n",
       "V1_UC9_0                          6.99597                       0.00974  ...   \n",
       "\n",
       "           k__Bacteria|p__Proteobacteria|c__Alphaproteobacteria|o__Rhodobacterales|f__Rhodobacteraceae  \\\n",
       "MH0001                                               0.00000                                             \n",
       "MH0002                                               0.00000                                             \n",
       "MH0003                                               0.00000                                             \n",
       "MH0004                                               0.00000                                             \n",
       "MH0005                                               0.00000                                             \n",
       "...                                                      ...                                             \n",
       "V1_UC61_0                                            0.00000                                             \n",
       "V1_UC62_0                                            0.00000                                             \n",
       "V1_UC7_0                                             0.00000                                             \n",
       "V1_UC8_0                                             0.00000                                             \n",
       "V1_UC9_0                                             0.00336                                             \n",
       "\n",
       "           k__Viroids|p__Viroids_noname|c__Viroids_noname|o__Viroids_noname|f__Pospiviroidae|g__Pospiviroidae_noname  \\\n",
       "MH0001                                               0.00000                                                           \n",
       "MH0002                                               0.00000                                                           \n",
       "MH0003                                               0.00000                                                           \n",
       "MH0004                                               0.00000                                                           \n",
       "MH0005                                               0.00000                                                           \n",
       "...                                                      ...                                                           \n",
       "V1_UC61_0                                            0.00000                                                           \n",
       "V1_UC62_0                                            0.00000                                                           \n",
       "V1_UC7_0                                             0.00000                                                           \n",
       "V1_UC8_0                                             0.00000                                                           \n",
       "V1_UC9_0                                             0.07191                                                           \n",
       "\n",
       "           k__Bacteria|p__Actinobacteria|c__Actinobacteria|o__Actinomycetales|f__Microbacteriaceae|g__Leifsonia  \\\n",
       "MH0001                                               0.00000                                                      \n",
       "MH0002                                               0.00000                                                      \n",
       "MH0003                                               0.00000                                                      \n",
       "MH0004                                               0.00000                                                      \n",
       "MH0005                                               0.00000                                                      \n",
       "...                                                      ...                                                      \n",
       "V1_UC61_0                                            0.00000                                                      \n",
       "V1_UC62_0                                            0.00000                                                      \n",
       "V1_UC7_0                                             0.00000                                                      \n",
       "V1_UC8_0                                             0.00000                                                      \n",
       "V1_UC9_0                                             0.00383                                                      \n",
       "\n",
       "           k__Bacteria|p__Proteobacteria|c__Gammaproteobacteria|o__Chromatiales|f__Ectothiorhodospiraceae|g__Thioalkalivibrio  \\\n",
       "MH0001                                               0.00000                                                                    \n",
       "MH0002                                               0.00000                                                                    \n",
       "MH0003                                               0.00000                                                                    \n",
       "MH0004                                               0.00000                                                                    \n",
       "MH0005                                               0.00000                                                                    \n",
       "...                                                      ...                                                                    \n",
       "V1_UC61_0                                            0.00000                                                                    \n",
       "V1_UC62_0                                            0.00000                                                                    \n",
       "V1_UC7_0                                             0.00000                                                                    \n",
       "V1_UC8_0                                             0.00000                                                                    \n",
       "V1_UC9_0                                             0.00379                                                                    \n",
       "\n",
       "           k__Bacteria|p__Proteobacteria|c__Alphaproteobacteria|o__Rhodobacterales|f__Rhodobacteraceae|g__Labrenzia  \\\n",
       "MH0001                                               0.00000                                                          \n",
       "MH0002                                               0.00000                                                          \n",
       "MH0003                                               0.00000                                                          \n",
       "MH0004                                               0.00000                                                          \n",
       "MH0005                                               0.00000                                                          \n",
       "...                                                      ...                                                          \n",
       "V1_UC61_0                                            0.00000                                                          \n",
       "V1_UC62_0                                            0.00000                                                          \n",
       "V1_UC7_0                                             0.00000                                                          \n",
       "V1_UC8_0                                             0.00000                                                          \n",
       "V1_UC9_0                                             0.00336                                                          \n",
       "\n",
       "           k__Viroids|p__Viroids_noname|c__Viroids_noname|o__Viroids_noname|f__Pospiviroidae|g__Pospiviroidae_noname|s__Dahlia_latent_viroid  \\\n",
       "MH0001                                               0.00000                                                                                   \n",
       "MH0002                                               0.00000                                                                                   \n",
       "MH0003                                               0.00000                                                                                   \n",
       "MH0004                                               0.00000                                                                                   \n",
       "MH0005                                               0.00000                                                                                   \n",
       "...                                                      ...                                                                                   \n",
       "V1_UC61_0                                            0.00000                                                                                   \n",
       "V1_UC62_0                                            0.00000                                                                                   \n",
       "V1_UC7_0                                             0.00000                                                                                   \n",
       "V1_UC8_0                                             0.00000                                                                                   \n",
       "V1_UC9_0                                             0.07191                                                                                   \n",
       "\n",
       "           k__Bacteria|p__Actinobacteria|c__Actinobacteria|o__Actinomycetales|f__Microbacteriaceae|g__Leifsonia|s__Leifsonia_unclassified  \\\n",
       "MH0001                                               0.00000                                                                                \n",
       "MH0002                                               0.00000                                                                                \n",
       "MH0003                                               0.00000                                                                                \n",
       "MH0004                                               0.00000                                                                                \n",
       "MH0005                                               0.00000                                                                                \n",
       "...                                                      ...                                                                                \n",
       "V1_UC61_0                                            0.00000                                                                                \n",
       "V1_UC62_0                                            0.00000                                                                                \n",
       "V1_UC7_0                                             0.00000                                                                                \n",
       "V1_UC8_0                                             0.00000                                                                                \n",
       "V1_UC9_0                                             0.00383                                                                                \n",
       "\n",
       "           k__Bacteria|p__Proteobacteria|c__Gammaproteobacteria|o__Chromatiales|f__Ectothiorhodospiraceae|g__Thioalkalivibrio|s__Thioalkalivibrio_unclassified  \\\n",
       "MH0001                                               0.00000                                                                                                     \n",
       "MH0002                                               0.00000                                                                                                     \n",
       "MH0003                                               0.00000                                                                                                     \n",
       "MH0004                                               0.00000                                                                                                     \n",
       "MH0005                                               0.00000                                                                                                     \n",
       "...                                                      ...                                                                                                     \n",
       "V1_UC61_0                                            0.00000                                                                                                     \n",
       "V1_UC62_0                                            0.00000                                                                                                     \n",
       "V1_UC7_0                                             0.00000                                                                                                     \n",
       "V1_UC8_0                                             0.00000                                                                                                     \n",
       "V1_UC9_0                                             0.00379                                                                                                     \n",
       "\n",
       "           k__Bacteria|p__Proteobacteria|c__Alphaproteobacteria|o__Rhodobacterales|f__Rhodobacteraceae|g__Labrenzia|s__Labrenzia_unclassified  \\\n",
       "MH0001                                               0.00000                                                                                    \n",
       "MH0002                                               0.00000                                                                                    \n",
       "MH0003                                               0.00000                                                                                    \n",
       "MH0004                                               0.00000                                                                                    \n",
       "MH0005                                               0.00000                                                                                    \n",
       "...                                                      ...                                                                                    \n",
       "V1_UC61_0                                            0.00000                                                                                    \n",
       "V1_UC62_0                                            0.00000                                                                                    \n",
       "V1_UC7_0                                             0.00000                                                                                    \n",
       "V1_UC8_0                                             0.00000                                                                                    \n",
       "V1_UC9_0                                             0.00336                                                                                    \n",
       "\n",
       "           k__Viroids|p__Viroids_noname|c__Viroids_noname|o__Viroids_noname|f__Pospiviroidae|g__Pospiviroidae_noname|s__Dahlia_latent_viroid|t__PRJNA186953  \n",
       "MH0001                                               0.00000                                                                                                 \n",
       "MH0002                                               0.00000                                                                                                 \n",
       "MH0003                                               0.00000                                                                                                 \n",
       "MH0004                                               0.00000                                                                                                 \n",
       "MH0005                                               0.00000                                                                                                 \n",
       "...                                                      ...                                                                                                 \n",
       "V1_UC61_0                                            0.00000                                                                                                 \n",
       "V1_UC62_0                                            0.00000                                                                                                 \n",
       "V1_UC7_0                                             0.00000                                                                                                 \n",
       "V1_UC8_0                                             0.00000                                                                                                 \n",
       "V1_UC9_0                                             0.07191                                                                                                 \n",
       "\n",
       "[396 rows x 1939 columns]"
      ]
     },
     "execution_count": 21,
     "metadata": {},
     "output_type": "execute_result"
    }
   ],
   "source": [
    "# Load and visualize the data.\n",
    "ab_data_pd = pd.read_csv(\"gut_abundances.tsv\", sep=\"\\t\", header = 0)\n",
    "descriptor_names = ab_data_pd.columns\n",
    "ab_data = ab_data_pd.to_numpy()\n",
    "status_txt =  pd.read_csv(\"ibd_status.lst\", sep=\"\\t\", header = None).to_numpy()\n",
    "ab_data_pd"
   ]
  },
  {
   "cell_type": "markdown",
   "metadata": {},
   "source": [
    "Take a look at the data: number of samples ($n$), number of descriptors ($p$), names of descriptors (in ```descriptor_names```), etc."
   ]
  },
  {
   "cell_type": "code",
   "execution_count": 22,
   "metadata": {},
   "outputs": [
    {
     "name": "stdout",
     "output_type": "stream",
     "text": [
      "Number of samples, number of descriptors: 396 1939\n"
     ]
    },
    {
     "data": {
      "text/plain": [
       "Index(['k__Bacteria', 'k__Archaea', 'k__Viruses',\n",
       "       'k__Bacteria|p__Bacteroidetes', 'k__Bacteria|p__Firmicutes',\n",
       "       'k__Bacteria|p__Proteobacteria', 'k__Bacteria|p__Actinobacteria',\n",
       "       'k__Archaea|p__Euryarchaeota', 'k__Bacteria|p__Verrucomicrobia',\n",
       "       'k__Viruses|p__Viruses_noname',\n",
       "       ...\n",
       "       'k__Bacteria|p__Proteobacteria|c__Alphaproteobacteria|o__Rhodobacterales|f__Rhodobacteraceae',\n",
       "       'k__Viroids|p__Viroids_noname|c__Viroids_noname|o__Viroids_noname|f__Pospiviroidae|g__Pospiviroidae_noname',\n",
       "       'k__Bacteria|p__Actinobacteria|c__Actinobacteria|o__Actinomycetales|f__Microbacteriaceae|g__Leifsonia',\n",
       "       'k__Bacteria|p__Proteobacteria|c__Gammaproteobacteria|o__Chromatiales|f__Ectothiorhodospiraceae|g__Thioalkalivibrio',\n",
       "       'k__Bacteria|p__Proteobacteria|c__Alphaproteobacteria|o__Rhodobacterales|f__Rhodobacteraceae|g__Labrenzia',\n",
       "       'k__Viroids|p__Viroids_noname|c__Viroids_noname|o__Viroids_noname|f__Pospiviroidae|g__Pospiviroidae_noname|s__Dahlia_latent_viroid',\n",
       "       'k__Bacteria|p__Actinobacteria|c__Actinobacteria|o__Actinomycetales|f__Microbacteriaceae|g__Leifsonia|s__Leifsonia_unclassified',\n",
       "       'k__Bacteria|p__Proteobacteria|c__Gammaproteobacteria|o__Chromatiales|f__Ectothiorhodospiraceae|g__Thioalkalivibrio|s__Thioalkalivibrio_unclassified',\n",
       "       'k__Bacteria|p__Proteobacteria|c__Alphaproteobacteria|o__Rhodobacterales|f__Rhodobacteraceae|g__Labrenzia|s__Labrenzia_unclassified',\n",
       "       'k__Viroids|p__Viroids_noname|c__Viroids_noname|o__Viroids_noname|f__Pospiviroidae|g__Pospiviroidae_noname|s__Dahlia_latent_viroid|t__PRJNA186953'],\n",
       "      dtype='object', length=1939)"
      ]
     },
     "execution_count": 22,
     "metadata": {},
     "output_type": "execute_result"
    }
   ],
   "source": [
    "n,p = ab_data_pd.shape\n",
    "print(\"Number of samples, number of descriptors:\",n,p)\n",
    "descriptor_names"
   ]
  },
  {
   "cell_type": "markdown",
   "metadata": {},
   "source": [
    "We now transform the target variable to a binary (0 ==  control, 1 == IBD) variable ```status```:"
   ]
  },
  {
   "cell_type": "code",
   "execution_count": 23,
   "metadata": {},
   "outputs": [],
   "source": [
    "status = np.ravel([int(s == \"IBD\") for s in status_txt])"
   ]
  },
  {
   "cell_type": "markdown",
   "metadata": {},
   "source": [
    "What is the name of the most correlated species (we denote by S) to the clinical status? Use the ```np.corrcoef``` function to compute the correlation between the data and the status.\n",
    "You can compute the correlation between the data and the status using ```corr_vector = np.corrcoef(ab_data.transpose(),status))[:-1,p]```, which gives the correlation for each species."
   ]
  },
  {
   "cell_type": "code",
   "execution_count": 24,
   "metadata": {},
   "outputs": [
    {
     "name": "stdout",
     "output_type": "stream",
     "text": [
      "Coefficient that correlates the most with IBD: 0.40722498985588496 , with index : 6 , corresponding bacteria: k__Bacteria|p__Actinobacteria\n"
     ]
    }
   ],
   "source": [
    "# Compute the correlation vector for each descriptor and select the one that correlates the most with IBD.\n",
    "corr_vector = np.corrcoef(ab_data.transpose(),status)[:-1,p]\n",
    "print(\"Coefficient that correlates the most with IBD:\", corr_vector.max(), \", with index :\", corr_vector.argmax(), \", corresponding bacteria:\", descriptor_names[corr_vector.argmax()])"
   ]
  },
  {
   "cell_type": "markdown",
   "metadata": {},
   "source": [
    "Create a (naïve) predictor that takes as input the abundance of S and output the clinical status of the patient. Either compute the prediction accuracy or its AUC ROC for every threshold, this will be our baseline predictor to improve on."
   ]
  },
  {
   "cell_type": "code",
   "execution_count": 25,
   "metadata": {},
   "outputs": [
    {
     "name": "stdout",
     "output_type": "stream",
     "text": [
      "(198, 1939)\n",
      "(396, 1939)\n",
      "6\n"
     ]
    },
    {
     "data": {
      "image/png": "[encoded data removed]",
      "text/plain": [
       "<Figure size 432x288 with 1 Axes>"
      ]
     },
     "metadata": {
      "needs_background": "light"
     },
     "output_type": "display_data"
    },
    {
     "name": "stdout",
     "output_type": "stream",
     "text": [
      "AUC ROC on test set: 0.6828084555651424\n",
      "Accuracy on test: 0.7222222222222222\n"
     ]
    }
   ],
   "source": [
    "# Split data into 50% train and 50% test subsets.\n",
    "x_train, x_test, y_train, y_test = train_test_split(\n",
    "    ab_data, status, test_size=0.5, shuffle=True\n",
    ")\n",
    "print(x_train.shape)\n",
    "print(ab_data.shape)\n",
    "\n",
    "# Remove species not abundant in the train set.\n",
    "col_to_rm = np.where(np.sum(x_train,axis=0) == 0)\n",
    "x_train = np.delete(x_train,col_to_rm,axis=1)\n",
    "x_test =  np.delete(x_test,col_to_rm,axis=1)\n",
    "n,p = x_train.shape\n",
    "\n",
    "# Index of the best correlated species to IBD.\n",
    "best_cor_sp = corr_vector.argmax()\n",
    "print(best_cor_sp)\n",
    "\n",
    "# Compute accuracy for a naive predictor only using the best correlated species.\n",
    "accuracy = list()\n",
    "ths = np.linspace(0,int(np.max(x_train[:,best_cor_sp]))+1,1000) # threshold list\n",
    "for t in ths:\n",
    "    predictions = (x_train[:,best_cor_sp]>t)\n",
    "    accuracy += [sum(predictions == y_train)]\n",
    "\n",
    "# Plot the decision threshold vs. performance of the predictor.\n",
    "plt.scatter(ths,accuracy)\n",
    "plt.xlabel(\"Decision threshold\")\n",
    "plt.ylabel(\"Accuracy\")\n",
    "plt.show()\n",
    "\n",
    "# Decision threshold corresponding to the best accuracy.\n",
    "best_ths = ths[np.array(accuracy).argmax()]\n",
    "# Report the accuracy on the test set.\n",
    "predictions = (x_test[:,best_cor_sp]>best_ths)\n",
    "accuracy = sum(predictions == y_test)/len(y_test)\n",
    "roc = roc_auc_score(y_test==1,predictions)\n",
    "print(\"AUC ROC on test set:\",roc)\n",
    "print(\"Accuracy on test:\",accuracy)\n"
   ]
  },
  {
   "cell_type": "markdown",
   "metadata": {},
   "source": [
    "Now we hope that we can do better when using more than 1 descriptor.\n",
    "\n",
    "We will first use a standard [logistic regression](https://scikit-learn.org/stable/modules/generated/sklearn.linear_model.LogisticRegression.html). Use the [`cross_validate`](https://scikit-learn.org/stable/modules/generated/sklearn.model_selection.cross_validate.html ) function of Sklearn to evaluate your predictor in a cross-validation way.\n",
    "\n",
    "Take a look at what metrics you can find in the attributes of the cross-validation object `cv` and print the average accuracy.\n",
    "\n",
    "Do you gain in terms of accuracy compared to a single predictor? Check if you are overfitting the data."
   ]
  },
  {
   "cell_type": "code",
   "execution_count": 26,
   "metadata": {},
   "outputs": [
    {
     "name": "stdout",
     "output_type": "stream",
     "text": [
      "Average Cross-Validation accuracy on test: 0.7626898734177214\n",
      "Cross-Validation accuracy on test of the first fold: 0.7375\n"
     ]
    }
   ],
   "source": [
    "# Declaring log-regression with no regularization.\n",
    "logreg = linear_model.LogisticRegression(penalty='none', max_iter=100000)\n",
    "cv = cross_validate(logreg, ab_data_pd, status)\n",
    "\n",
    "test_score = np.array(cv[\"test_score\"]).mean()\n",
    "# Print mean accuracy on the test set.\n",
    "print(\"Average Cross-Validation accuracy on test:\",test_score)\n",
    "# Print example accuracy on 1 fold.\n",
    "print(\"Cross-Validation accuracy on test of the first fold:\",cv[\"test_score\"][0])\n"
   ]
  },
  {
   "cell_type": "markdown",
   "metadata": {},
   "source": [
    "Check the `coef_` attribute of your model. How many species are you using for taking the decision?"
   ]
  },
  {
   "cell_type": "code",
   "execution_count": 27,
   "metadata": {},
   "outputs": [
    {
     "name": "stdout",
     "output_type": "stream",
     "text": [
      "The model uses 1671 descriptors to calculate the prediction with coefficients:\n",
      "[[ 3.33431933e+00  2.04741825e+00 -2.22066893e+00 ... -5.37569856e-04\n",
      "  -5.37569856e-04 -5.37569856e-04]]\n"
     ]
    }
   ],
   "source": [
    "logreg.fit(x_train,y_train)\n",
    "used_descriptors = logreg.coef_\n",
    "print(\"The model uses\",len(used_descriptors[0]),\"descriptors to calculate the prediction with coefficients:\")\n",
    "print(used_descriptors)"
   ]
  },
  {
   "cell_type": "markdown",
   "metadata": {},
   "source": [
    "Considering that only few bacterial species may be responsible for IBD, choose a relevant regularization (see the available penalties for logistic regression [here](https://scikit-learn.org/stable/modules/generated/sklearn.linear_model.LogisticRegression.html)).\n",
    "\n"
   ]
  },
  {
   "cell_type": "code",
   "execution_count": 28,
   "metadata": {},
   "outputs": [
    {
     "name": "stdout",
     "output_type": "stream",
     "text": [
      "AUC ROC on test set with L1 penalty:  0.7609208972845337 , accuracy:  0.7828282828282829\n",
      "AUC ROC on test set with L2 penalty:  0.7804014167650533 , accuracy:  0.797979797979798\n"
     ]
    }
   ],
   "source": [
    "# Split data into 50% train and 50% test subsets\n",
    "x_train, x_test, y_train, y_test = train_test_split(\n",
    "    ab_data, status, test_size=0.5, shuffle=True\n",
    ")\n",
    "\n",
    "# Create a regularized model with L1 regularization\n",
    "logreg_regul1 =linear_model.LogisticRegression(solver=\"liblinear\", penalty=\"l1\", max_iter=100000)\n",
    "logreg_regul1.fit(x_train,y_train)\n",
    "pred1 = logreg_regul1.predict(x_test)\n",
    "# Report accuracy on test set\n",
    "accuracy1 = sum(pred1 == y_test)/len(y_test)\n",
    "roc1 = roc_auc_score(y_test==1,pred1)\n",
    "print(\"AUC ROC on test set with L1 penalty: \",roc1,\", accuracy: \", accuracy1)\n",
    "\n",
    "# Create a regularized model with L2 regularization\n",
    "logreg_regul2 =linear_model.LogisticRegression(solver=\"liblinear\", penalty=\"l2\", max_iter=100000)\n",
    "logreg_regul2.fit(x_train,y_train)\n",
    "pred2 = logreg_regul2.predict(x_test)\n",
    "# Report accuracy on test set\n",
    "accuracy2 = sum(pred2 == y_test)/len(y_test)\n",
    "roc2 = roc_auc_score(y_test==1,pred2)\n",
    "print(\"AUC ROC on test set with L2 penalty: \",roc2,\", accuracy: \", accuracy2)"
   ]
  },
  {
   "cell_type": "markdown",
   "metadata": {},
   "source": [
    "Have you increased the accuracy? Looking at `logreg_regul.coef_`, how many descriptors are you using after regularization?\n",
    "All things considered, is it a better model?"
   ]
  },
  {
   "cell_type": "code",
   "execution_count": 29,
   "metadata": {},
   "outputs": [
    {
     "name": "stdout",
     "output_type": "stream",
     "text": [
      "The model with L1 penalty uses:  99 descriptors\n",
      "The model with L2 penalty uses:  1721 descriptors\n",
      "Total number of descriptors:  1939\n"
     ]
    }
   ],
   "source": [
    "used_descriptors1 = np.array(logreg_regul1.coef_[0])\n",
    "print(\"The model with L1 penalty uses: \", np.count_nonzero(used_descriptors1),\"descriptors\")\n",
    "\n",
    "used_descriptors2 = np.array(logreg_regul2.coef_[0])\n",
    "print(\"The model with L2 penalty uses: \", np.count_nonzero(used_descriptors2),\"descriptors\")\n",
    "\n",
    "print(\"Total number of descriptors: \", used_descriptors1.size)"
   ]
  },
  {
   "cell_type": "markdown",
   "metadata": {},
   "source": [
    "We use fewer descriptors than the model without regularization, we also notice that on average L1 regularization results in a model with a slightly better accuracy. Therefore we use this model in the cells below."
   ]
  },
  {
   "cell_type": "markdown",
   "metadata": {},
   "source": [
    "Find the optimal regularization strength, by comparing performances on test set and train set. If you have more time, best is to do it by plotting the mean performance in cross-validation, with confidence enveloppe (+/- std deviation) over the folds.\n"
   ]
  },
  {
   "cell_type": "code",
   "execution_count": 57,
   "metadata": {},
   "outputs": [
    {
     "data": {
      "image/png": "[encoded data removed]",
      "text/plain": [
       "<Figure size 432x288 with 1 Axes>"
      ]
     },
     "metadata": {
      "needs_background": "light"
     },
     "output_type": "display_data"
    }
   ],
   "source": [
    "acc_test = list()\n",
    "acc_train = list()\n",
    "\n",
    "# Fit log-regression models with different penalty strength and plot the accuracy for train and test batches.\n",
    "reg_strengths = [0.001,0.005,0.01,0.015,0.02,0.025,0.03,0.04,0.05,0.06,0.07,0.08,0.09,0.1,0.11,0.12,0.13,0.14,0.15,0.2,0.3,0.4,0.5,0.6,0.7,0.8,0.9,1]\n",
    "for c in reg_strengths:\n",
    "    logreg = linear_model.LogisticRegression(solver=\"liblinear\", penalty=\"l1\", C=c)\n",
    "    cv = cross_validate(logreg, ab_data_pd, status, return_train_score=True)\n",
    "    test_score = np.array(cv[\"test_score\"]).mean()\n",
    "    train_score = np.array(cv[\"train_score\"]).mean()\n",
    "    acc_test.append(test_score)\n",
    "    acc_train.append(train_score)\n",
    "    \n",
    "plt.clf()\n",
    "plt.scatter(reg_strengths, acc_test, label='acc test')\n",
    "plt.scatter(reg_strengths, acc_train, label='acc train')\n",
    "plt.legend()\n",
    "plt.show()"
   ]
  },
  {
   "cell_type": "markdown",
   "metadata": {},
   "source": [
    "Train a classifier on the full dataset with the optimial regularization strength, and interpret the coefficients. You can check in particular if it is consistent with [this paper](https://pubmed.ncbi.nlm.nih.gov/27999802/) and [this one](https://pubmed.ncbi.nlm.nih.gov/20648002/)."
   ]
  },
  {
   "cell_type": "code",
   "execution_count": 58,
   "metadata": {},
   "outputs": [
    {
     "name": "stdout",
     "output_type": "stream",
     "text": [
      "0.03 0.8131645569620252\n",
      "There are 13 positive associations with IBD\n",
      "['k__Bacteria' 'k__Bacteria|p__Firmicutes' 'k__Bacteria|p__Actinobacteria'\n",
      " 'k__Bacteria|p__Actinobacteria|c__Actinobacteria'\n",
      " 'k__Bacteria|p__Firmicutes|c__Clostridia|o__Clostridiales|f__Clostridiaceae'\n",
      " 'k__Bacteria|p__Firmicutes|c__Negativicutes|o__Selenomonadales|f__Acidaminococcaceae'\n",
      " 'k__Bacteria|p__Bacteroidetes|c__Bacteroidia|o__Bacteroidales|f__Prevotellaceae|g__Prevotella'\n",
      " 'k__Bacteria|p__Firmicutes|c__Clostridia|o__Clostridiales|f__Lachnospiraceae|g__Lachnospiraceae_noname'\n",
      " 'k__Bacteria|p__Bacteroidetes|c__Bacteroidia|o__Bacteroidales|f__Bacteroidaceae|g__Bacteroides|s__Bacteroides_coprocola'\n",
      " 'k__Bacteria|p__Bacteroidetes|c__Bacteroidia|o__Bacteroidales|f__Bacteroidaceae|g__Bacteroides|s__Bacteroides_stercoris'\n",
      " 'k__Bacteria|p__Bacteroidetes|c__Bacteroidia|o__Bacteroidales|f__Bacteroidaceae|g__Bacteroides|s__Bacteroides_coprocola|t__GCF_000154845'\n",
      " 'k__Bacteria|p__Bacteroidetes|c__Bacteroidia|o__Bacteroidales|f__Bacteroidaceae|g__Bacteroides|s__Bacteroides_stercoris|t__Bacteroides_stercoris_unclassified'\n",
      " 'k__Bacteria|p__Bacteroidetes|c__Bacteroidia|o__Bacteroidales|f__Bacteroidaceae|g__Bacteroides|s__Bacteroides_eggerthii']\n",
      "There are 13 negative associations with IBD\n",
      "['k__Bacteria|p__Bacteroidetes'\n",
      " 'k__Bacteria|p__Bacteroidetes|c__Bacteroidia'\n",
      " 'k__Bacteria|p__Bacteroidetes|c__Bacteroidia|o__Bacteroidales'\n",
      " 'k__Bacteria|p__Firmicutes|c__Clostridia|o__Clostridiales|f__Ruminococcaceae'\n",
      " 'k__Bacteria|p__Firmicutes|c__Clostridia|o__Clostridiales|f__Lachnospiraceae|g__Butyrivibrio'\n",
      " 'k__Bacteria|p__Firmicutes|c__Clostridia|o__Clostridiales|f__Lachnospiraceae|g__Roseburia'\n",
      " 'k__Bacteria|p__Firmicutes|c__Clostridia|o__Clostridiales|f__Ruminococcaceae|g__Ruminococcus|s__Ruminococcus_bromii'\n",
      " 'k__Bacteria|p__Firmicutes|c__Clostridia|o__Clostridiales|f__Ruminococcaceae|g__Subdoligranulum|s__Subdoligranulum_unclassified'\n",
      " 'k__Bacteria|p__Firmicutes|c__Clostridia|o__Clostridiales|f__Eubacteriaceae|g__Eubacterium|s__Eubacterium_rectale'\n",
      " 'k__Bacteria|p__Bacteroidetes|c__Bacteroidia|o__Bacteroidales|f__Bacteroidaceae|g__Bacteroides|s__Bacteroides_uniformis'\n",
      " 'k__Bacteria|p__Firmicutes|c__Clostridia|o__Clostridiales|f__Ruminococcaceae|g__Ruminococcus|s__Ruminococcus_bromii|t__GCF_000209875'\n",
      " 'k__Bacteria|p__Firmicutes|c__Clostridia|o__Clostridiales|f__Lachnospiraceae|g__Coprococcus|s__Coprococcus_sp_ART55_1'\n",
      " 'k__Bacteria|p__Firmicutes|c__Clostridia|o__Clostridiales|f__Lachnospiraceae|g__Coprococcus|s__Coprococcus_sp_ART55_1|t__GCF_000210595']\n"
     ]
    }
   ],
   "source": [
    "# c is the optimal penalty given the previously calculated accuracy depending on differentpenalty coeficients.\n",
    "c = reg_strengths[np.array(acc_test).argmax()]\n",
    "logreg = linear_model.LogisticRegression(solver=\"liblinear\", penalty=\"l1\", C=c)\n",
    "logreg.fit(ab_data,status)\n",
    "weights = logreg.coef_\n",
    "print(c, acc_test[np.array(acc_test).argmax()])\n",
    "\n",
    "# Positive associations with IBD used by the model with L1 regularization and optimal penalty weight.\n",
    "positives = np.where(weights>0)\n",
    "print(\"There are\", positives[1].size, \"positive associations with IBD\")\n",
    "print(np.array(descriptor_names)[positives[1]])\n",
    "\n",
    "# Negative associations with IBD used by the model with L1 regularization and optimal penalty weight.\n",
    "negatives = np.where(weights<0)\n",
    "print(\"There are\", negatives[1].size, \"negative associations with IBD\")\n",
    "print(np.array(descriptor_names)[negatives[1]])"
   ]
  },
  {
   "cell_type": "markdown",
   "metadata": {},
   "source": [
    "We use C-Support Vector Classification with L2 penalty and an experimentaly find the optimal penalty strength."
   ]
  },
  {
   "cell_type": "code",
   "execution_count": 59,
   "metadata": {},
   "outputs": [
    {
     "data": {
      "image/png": "[encoded data removed]",
      "text/plain": [
       "<Figure size 432x288 with 1 Axes>"
      ]
     },
     "metadata": {
      "needs_background": "light"
     },
     "output_type": "display_data"
    },
    {
     "name": "stdout",
     "output_type": "stream",
     "text": [
      "0.0005 0.8030063291139241\n",
      "There are 849 positive associations with IBD\n",
      "There are 815 negative associations with IBD\n"
     ]
    }
   ],
   "source": [
    "from sklearn.svm import SVC\n",
    "\n",
    "acc_test = list()\n",
    "acc_train = list()\n",
    "\n",
    "# Fit SVM models with different penalty strength and plot the accuracy for train and test batches.\n",
    "reg_strengths = [0.0001,0.0005,0.001,0.005,0.01,0.015,0.02,0.025,0.03,0.04,0.05,0.06,0.07,0.08,0.09,0.1,0.11,0.12,0.13,0.14,0.15,0.2,0.3,0.4,0.5,0.6,0.7,0.8,0.9,1]\n",
    "for c in reg_strengths:\n",
    "    vector_m = SVC(gamma='auto', C=c, kernel=\"linear\")\n",
    "    cv = cross_validate(vector_m, ab_data_pd, status, return_train_score=True)\n",
    "    test_score = np.array(cv[\"test_score\"]).mean()\n",
    "    train_score = np.array(cv[\"train_score\"]).mean()\n",
    "    acc_test.append(test_score)\n",
    "    acc_train.append(train_score)\n",
    "    \n",
    "plt.clf()\n",
    "plt.scatter(reg_strengths, acc_test, label='acc test')\n",
    "plt.scatter(reg_strengths, acc_train, label='acc train')\n",
    "plt.legend()\n",
    "plt.show()\n",
    "\n",
    "c = reg_strengths[np.array(acc_test).argmax()]\n",
    "vector_m = SVC(gamma='auto', C=c, kernel=\"linear\")\n",
    "vector_m.fit(ab_data,status)\n",
    "weights = vector_m.coef_\n",
    "print(c, acc_test[np.array(acc_test).argmax()])\n",
    "\n",
    "# Positive associations with IBD used by the model with L1 regularization and optimal penalty weight.\n",
    "positives = np.where(weights>0)\n",
    "print(\"There are\", positives[1].size, \"positive associations with IBD\")\n",
    "\n",
    "# Negative associations with IBD used by the model with L1 regularization and optimal penalty weight.\n",
    "negatives = np.where(weights<0)\n",
    "print(\"There are\", negatives[1].size, \"negative associations with IBD\")"
   ]
  },
  {
   "cell_type": "markdown",
   "metadata": {},
   "source": [
    "We see that in an SVM with L2 regularization a lot more parameters are being used in comparison to log-regression with L1 regularization, the accuracy is slightly lower than the one obtained with the previous model. The SVM model is more accurate with a large regularization strength, which is consistent with the previous more accurate log-regression model that used only 26 coefficients."
   ]
  },
  {
   "cell_type": "code",
   "execution_count": 65,
   "metadata": {},
   "outputs": [
    {
     "name": "stdout",
     "output_type": "stream",
     "text": [
      "Average Cross-Validation accuracy on test: 0.6962820512820513\n",
      "Cross-Validation accuracy on test of the first fold: 0.7\n"
     ]
    }
   ],
   "source": [
    "from sklearn.tree import DecisionTreeClassifier\n",
    "from sklearn.model_selection import cross_val_score\n",
    "\n",
    "acc_test = list()\n",
    "acc_train = list()\n",
    "\n",
    "tree = DecisionTreeClassifier(random_state=0)\n",
    "tree.fit(ab_data,status)\n",
    "cv = cross_val_score(tree, ab_data, status, cv=10)\n",
    "\n",
    "# Print mean accuracy on the test set.\n",
    "print(\"Average Cross-Validation accuracy on test:\", cv.mean())\n",
    "# Print example accuracy on 1 fold.\n",
    "print(\"Cross-Validation accuracy on test of the first fold:\", cv[0])"
   ]
  },
  {
   "cell_type": "markdown",
   "metadata": {},
   "source": [
    "Using a decision tree to classify IBD data gives a lower accuracy than both the log-regression and SVM models. This could be the case because no reguralization can be applied and the model therefore takes into account all coefficients of which some do not correlate with the target value and therefore add more noise rather than making the prediction of the decision tree more accurate."
   ]
  }
 ],
 "metadata": {
  "kernelspec": {
   "display_name": "Python 3 (ipykernel)",
   "language": "python",
   "name": "python3"
  },
  "language_info": {
   "codemirror_mode": {
    "name": "ipython",
    "version": 3
   },
   "file_extension": ".py",
   "mimetype": "text/x-python",
   "name": "python",
   "nbconvert_exporter": "python",
   "pygments_lexer": "ipython3",
   "version": "3.8.10"
  }
 },
 "nbformat": 4,
 "nbformat_minor": 4
}
